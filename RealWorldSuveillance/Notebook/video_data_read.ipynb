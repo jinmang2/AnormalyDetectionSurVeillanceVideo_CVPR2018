{
 "cells": [
  {
   "cell_type": "markdown",
   "metadata": {},
   "source": [
    "# Video Data load"
   ]
  },
  {
   "cell_type": "code",
   "execution_count": 16,
   "metadata": {},
   "outputs": [],
   "source": [
    "import os\n",
    "import glob\n",
    "import numpy as np"
   ]
  },
  {
   "cell_type": "code",
   "execution_count": 10,
   "metadata": {},
   "outputs": [],
   "source": [
    "batchsize = 60              # Each batch contain 60 videos.\n",
    "n_exp = int(batchsize / 2)  # Number of abnormal and normal videos.\n",
    "Num_abnormal = 810          # Total number of abnormal videos in Training Dataset\n",
    "Num_Normal = 800            # Total number of Normal videos in Training Dataset"
   ]
  },
  {
   "cell_type": "code",
   "execution_count": 11,
   "metadata": {},
   "outputs": [],
   "source": [
    "# We assume the features of abnormal videos and normal videos are located in two different folders.\n",
    "Abnor_list_iter = np.random.permutation(Num_abnormal)\n",
    "Abnor_list_iter = Abnor_list_iter[Num_abnormal-n_exp:]   # Indexes for randomly selected Abnormal Videos\n",
    "Norm_list_iter = np.random.permutation(Num_Normal)\n",
    "Norm_list_iter = Norm_list_iter[Num_Normal-n_exp:]       # Indexes for randomly selected Normal Videos"
   ]
  },
  {
   "cell_type": "code",
   "execution_count": 17,
   "metadata": {},
   "outputs": [],
   "source": [
    "def listdir_nohidden(AllVideos_Path): # To ignore hidden files\n",
    "    file_dir_extension = os.path.join(AllVideos_Path, '*_C.txt')\n",
    "    for f in glob.glob(file_dir_extension):\n",
    "        if not f.startswith('.'):\n",
    "            yield os.path.basename(f)"
   ]
  },
  {
   "cell_type": "code",
   "execution_count": null,
   "metadata": {},
   "outputs": [],
   "source": []
  }
 ],
 "metadata": {
  "kernelspec": {
   "display_name": "basic",
   "language": "python",
   "name": "basic"
  },
  "language_info": {
   "codemirror_mode": {
    "name": "ipython",
    "version": 3
   },
   "file_extension": ".py",
   "mimetype": "text/x-python",
   "name": "python",
   "nbconvert_exporter": "python",
   "pygments_lexer": "ipython3",
   "version": "3.6.9"
  }
 },
 "nbformat": 4,
 "nbformat_minor": 2
}
